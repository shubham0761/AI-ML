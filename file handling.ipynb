{
 "cells": [
  {
   "cell_type": "markdown",
   "metadata": {},
   "source": [
    "1 Write a program to fetch all data from the file."
   ]
  },
  {
   "cell_type": "code",
   "execution_count": 6,
   "metadata": {},
   "outputs": [
    {
     "name": "stdout",
     "output_type": "stream",
     "text": [
      "TCS,Sai,Rohit,Satya,Dhoni,Sarath,Saroj,Venkat,Sas\n",
      "INFOSYS,Kohli,Santosh,Venkat,Koti,Prabha,Soumya,Mishra\n",
      "WIPRO,Satya,Kohli,Ram,Chinna,Pop,Amelia,Suresh,Arjuna\n",
      "CTS,Prabha,Subha,Debha,Rabha,Venkat,Dhoni,Surya,Saroj\n",
      "NTH,Narayana,Akhil,Arha,Venkat,Sravya,Ananya,Revanth,Aha\n",
      "ABC,Arha,Chinna,Satya,Dhoni,Venkat,Rohit,Yash,Nikhilesh\n"
     ]
    }
   ],
   "source": [
    "a=open('nthdata.txt','r')\n",
    "b=a.read()\n",
    "print(b)"
   ]
  },
  {
   "cell_type": "markdown",
   "metadata": {},
   "source": [
    "2 write a program to read the firs line from the file "
   ]
  },
  {
   "cell_type": "code",
   "execution_count": 8,
   "metadata": {},
   "outputs": [
    {
     "name": "stdout",
     "output_type": "stream",
     "text": [
      "TCS,Sai,Rohit,Satya,Dhoni,Sarath,Saroj,Venkat,Sas\n",
      "\n"
     ]
    }
   ],
   "source": [
    "a=open('nthdata.txt','r')\n",
    "b=a.readline()\n",
    "print(b)"
   ]
  },
  {
   "cell_type": "markdown",
   "metadata": {},
   "source": [
    "3 write a program to read the last line from the file."
   ]
  },
  {
   "cell_type": "code",
   "execution_count": 1,
   "metadata": {},
   "outputs": [
    {
     "name": "stdout",
     "output_type": "stream",
     "text": [
      "ABC,Arha,Chinna,Satya,Dhoni,Venkat,Rohit,Yash,Nikhilesh\n"
     ]
    }
   ],
   "source": [
    "a=open('nthdata.txt','r')\n",
    "b=a.readlines()\n",
    "print(b[-1])"
   ]
  },
  {
   "cell_type": "markdown",
   "metadata": {},
   "source": [
    "4 write a program to read the 3rd line from  the file "
   ]
  },
  {
   "cell_type": "code",
   "execution_count": 20,
   "metadata": {},
   "outputs": [
    {
     "name": "stdout",
     "output_type": "stream",
     "text": [
      "WIPRO,Satya,Kohli,Ram,Chinna,Pop,Amelia,Suresh,Arjuna\n",
      "\n"
     ]
    }
   ],
   "source": [
    "a=open('nthdata.txt')\n",
    "b=a.readlines()\n",
    "print(b[2])"
   ]
  },
  {
   "cell_type": "markdown",
   "metadata": {},
   "source": [
    "5 write a program to count total number of character in the file"
   ]
  },
  {
   "cell_type": "code",
   "execution_count": 22,
   "metadata": {},
   "outputs": [
    {
     "data": {
      "text/plain": [
       "325"
      ]
     },
     "execution_count": 22,
     "metadata": {},
     "output_type": "execute_result"
    }
   ],
   "source": [
    "a=open('nthdata.txt')\n",
    "b=a.read()\n",
    "len(b)"
   ]
  },
  {
   "cell_type": "markdown",
   "metadata": {},
   "source": [
    "6 write a program to count total number of commas in the file"
   ]
  },
  {
   "cell_type": "code",
   "execution_count": 26,
   "metadata": {},
   "outputs": [
    {
     "data": {
      "text/plain": [
       "47"
      ]
     },
     "execution_count": 26,
     "metadata": {},
     "output_type": "execute_result"
    }
   ],
   "source": [
    "a=open('nthdata.txt')\n",
    "b=a.read()\n",
    "b.count(',')"
   ]
  },
  {
   "cell_type": "markdown",
   "metadata": {},
   "source": [
    "7 write a program to count total number of words in the first line in the  files "
   ]
  },
  {
   "cell_type": "code",
   "execution_count": 33,
   "metadata": {},
   "outputs": [
    {
     "data": {
      "text/plain": [
       "48"
      ]
     },
     "execution_count": 33,
     "metadata": {},
     "output_type": "execute_result"
    }
   ],
   "source": [
    "a=open('nthdata.txt')\n",
    "b=a.read()\n",
    "c=b.split(',')\n",
    "len(c)"
   ]
  },
  {
   "cell_type": "markdown",
   "metadata": {},
   "source": [
    "8 write a progarm to count total number of line in the file "
   ]
  },
  {
   "cell_type": "code",
   "execution_count": 41,
   "metadata": {},
   "outputs": [
    {
     "data": {
      "text/plain": [
       "6"
      ]
     },
     "execution_count": 41,
     "metadata": {},
     "output_type": "execute_result"
    }
   ],
   "source": [
    "a=open('nthdata.txt')\n",
    "b=a.readlines()\n",
    "len(b)\n"
   ]
  },
  {
   "cell_type": "markdown",
   "metadata": {},
   "source": [
    "9. write a progrm to count total number of sai name in the file"
   ]
  },
  {
   "cell_type": "code",
   "execution_count": 48,
   "metadata": {},
   "outputs": [
    {
     "data": {
      "text/plain": [
       "1"
      ]
     },
     "execution_count": 48,
     "metadata": {},
     "output_type": "execute_result"
    }
   ],
   "source": [
    "a=open('nthdata.txt')\n",
    "b=a.read()\n",
    "b.count(\"Sai\")"
   ]
  },
  {
   "cell_type": "markdown",
   "metadata": {},
   "source": [
    "10 write a program to fetch the first word of each line in the file "
   ]
  },
  {
   "cell_type": "code",
   "execution_count": 3,
   "metadata": {},
   "outputs": [
    {
     "name": "stdout",
     "output_type": "stream",
     "text": [
      "TCS\n",
      "INFOSYS\n",
      "WIPRO\n",
      "CTS\n",
      "NTH\n",
      "ABC\n"
     ]
    }
   ],
   "source": [
    "a=open('nthdata.txt')\n",
    "b=a.readlines()\n",
    "for i in b:\n",
    "   c=i.split(\",\")\n",
    "   print(c[0])\n"
   ]
  },
  {
   "cell_type": "markdown",
   "metadata": {},
   "source": [
    "11 write a program to fetch the last word from the each line "
   ]
  },
  {
   "cell_type": "code",
   "execution_count": 11,
   "metadata": {},
   "outputs": [
    {
     "name": "stdout",
     "output_type": "stream",
     "text": [
      "Sas\n",
      "\n",
      "Mishra\n",
      "\n",
      "Arjuna\n",
      "\n",
      "Saroj\n",
      "\n",
      "Aha\n",
      "\n",
      "Nikhilesh\n"
     ]
    }
   ],
   "source": [
    "a=open('nthdata.txt')\n",
    "b=a.readlines()\n",
    "for i in b:\n",
    "    c=i.split(\",\")\n",
    "    print(c[-1])"
   ]
  },
  {
   "cell_type": "markdown",
   "metadata": {},
   "source": [
    "12 write a program to fetch all words which starts with a character"
   ]
  },
  {
   "cell_type": "code",
   "execution_count": 25,
   "metadata": {},
   "outputs": [
    {
     "name": "stdout",
     "output_type": "stream",
     "text": [
      "Amelia\n",
      "Arjuna\n",
      "\n",
      "Akhil\n",
      "Arha\n",
      "Ananya\n",
      "Aha\n",
      "\n",
      "ABC\n",
      "Arha\n"
     ]
    }
   ],
   "source": [
    "a=open('nthdata.txt')\n",
    "b=a.readlines()\n",
    "for i in b:\n",
    " c=i.split(\",\")\n",
    " for j in c:\n",
    "    if j.startswith(\"A\"):\n",
    "        print(j)"
   ]
  },
  {
   "cell_type": "markdown",
   "metadata": {},
   "source": [
    "13 write a program to fetch all words which ends with an vowel"
   ]
  },
  {
   "cell_type": "code",
   "execution_count": 20,
   "metadata": {},
   "outputs": [
    {
     "name": "stdout",
     "output_type": "stream",
     "text": [
      "Sai\n",
      "Satya\n",
      "Dhoni\n",
      "Kohli\n",
      "Koti\n",
      "Prabha\n",
      "Soumya\n",
      "Satya\n",
      "Kohli\n",
      "Chinna\n",
      "Amelia\n",
      "Prabha\n",
      "Subha\n",
      "Debha\n",
      "Rabha\n",
      "Dhoni\n",
      "Surya\n",
      "Narayana\n",
      "Arha\n",
      "Sravya\n",
      "Ananya\n",
      "Arha\n",
      "Chinna\n",
      "Satya\n",
      "Dhoni\n"
     ]
    }
   ],
   "source": [
    "a=open('nthdata.txt','r')\n",
    "b=a.readlines()\n",
    "for i in b:\n",
    " c=i.split(',')\n",
    " for j in c:\n",
    "     if j[-1] in ('a','e','i','o','u'):\n",
    "        print(j)\n"
   ]
  },
  {
   "cell_type": "markdown",
   "metadata": {},
   "source": [
    "14 write a program to fetch all words whieh has either 'a'or 'i' character in the file "
   ]
  },
  {
   "cell_type": "code",
   "execution_count": 24,
   "metadata": {},
   "outputs": [
    {
     "name": "stdout",
     "output_type": "stream",
     "text": [
      "Sai\n",
      "Rohit\n",
      "Satya\n",
      "Dhoni\n",
      "Sarath\n",
      "Saroj\n",
      "Venkat\n",
      "Sas\n",
      "\n",
      "Kohli\n",
      "Santosh\n",
      "Venkat\n",
      "Koti\n",
      "Prabha\n",
      "Soumya\n",
      "Mishra\n",
      "\n",
      "Satya\n",
      "Kohli\n",
      "Ram\n",
      "Chinna\n",
      "Amelia\n",
      "Arjuna\n",
      "\n",
      "Prabha\n",
      "Subha\n",
      "Debha\n",
      "Rabha\n",
      "Venkat\n",
      "Dhoni\n",
      "Surya\n",
      "Saroj\n",
      "\n",
      "Narayana\n",
      "Akhil\n",
      "Arha\n",
      "Venkat\n",
      "Sravya\n",
      "Ananya\n",
      "Revanth\n",
      "Aha\n",
      "\n",
      "Arha\n",
      "Chinna\n",
      "Satya\n",
      "Dhoni\n",
      "Venkat\n",
      "Rohit\n",
      "Yash\n",
      "Nikhilesh\n"
     ]
    }
   ],
   "source": [
    "a=open('nthdata.txt','r')\n",
    "b=a.readlines()\n",
    "for i in b:\n",
    "    c=i.split(',')\n",
    "    for j in c:\n",
    "        if 'a' in j or 'i' in j:\n",
    "            print(j)"
   ]
  },
  {
   "cell_type": "markdown",
   "metadata": {},
   "source": [
    "15 which contain only 5 character in the file"
   ]
  },
  {
   "cell_type": "code",
   "execution_count": 26,
   "metadata": {},
   "outputs": [
    {
     "name": "stdout",
     "output_type": "stream",
     "text": [
      "Rohit\n",
      "Satya\n",
      "Dhoni\n",
      "Saroj\n",
      "Kohli\n",
      "Satya\n",
      "Kohli\n",
      "Subha\n",
      "Debha\n",
      "Rabha\n",
      "Dhoni\n",
      "Surya\n",
      "Akhil\n",
      "Satya\n",
      "Dhoni\n",
      "Rohit\n"
     ]
    }
   ],
   "source": [
    "a=open(\"nthdata.txt\")\n",
    "b=a.read()\n",
    "c=b.split(',')\n",
    "for j in c:\n",
    "        if len(j)==5:\n",
    "            print(j)\n"
   ]
  },
  {
   "cell_type": "markdown",
   "metadata": {},
   "source": [
    "16 write a program to fetch all words which does not contains vowels expect i in the file "
   ]
  },
  {
   "cell_type": "code",
   "execution_count": 11,
   "metadata": {},
   "outputs": [
    {
     "name": "stdout",
     "output_type": "stream",
     "text": [
      "TCS\n",
      "INFOSYS\n",
      "WIPRO\n",
      "CTS\n",
      "NTH\n",
      "Akhil\n",
      "ABC\n"
     ]
    }
   ],
   "source": [
    "a=open('nthdata.txt')\n",
    "b=a.read()\n",
    "c=b.replace(\"\\n\",',')\n",
    "e=c.split(',')\n",
    "for i in e:\n",
    " if 'a' not in i and 'e' not in i and 'o' not in i and 'u' not in i:\n",
    "  print(i)\n",
    "\n",
    "    "
   ]
  },
  {
   "cell_type": "markdown",
   "metadata": {},
   "source": [
    "17 which ends with uppercase character in the file"
   ]
  },
  {
   "cell_type": "code",
   "execution_count": 13,
   "metadata": {},
   "outputs": [
    {
     "name": "stdout",
     "output_type": "stream",
     "text": [
      "TCS\n",
      "INFOSYS\n",
      "WIPRO\n",
      "CTS\n",
      "NTH\n",
      "ABC\n"
     ]
    }
   ],
   "source": [
    "a=open('nthdata.txt')\n",
    "b=a.readlines()\n",
    "for i in b:\n",
    "    c=i.split(',')\n",
    "    for j in c:\n",
    "     if j.isupper():\n",
    "        print(j)"
   ]
  },
  {
   "cell_type": "markdown",
   "metadata": {},
   "source": [
    "18 write a program to count total number of character in the excluding commas and \\ns"
   ]
  },
  {
   "cell_type": "code",
   "execution_count": 14,
   "metadata": {},
   "outputs": [
    {
     "name": "stdout",
     "output_type": "stream",
     "text": [
      "273\n"
     ]
    }
   ],
   "source": [
    "a=open('nthdata.txt')\n",
    "b=a.read()\n",
    "c=b.replace(',','')\n",
    "d=c.replace('\\n','')\n",
    "print(len(d))"
   ]
  },
  {
   "cell_type": "markdown",
   "metadata": {},
   "source": [
    "19 write a program to count total number words in the entire file "
   ]
  },
  {
   "cell_type": "code",
   "execution_count": 21,
   "metadata": {},
   "outputs": [
    {
     "name": "stdout",
     "output_type": "stream",
     "text": [
      "53\n"
     ]
    }
   ],
   "source": [
    "a=open('nthdata.txt')\n",
    "b=a.read()\n",
    "c=b.replace('\\n',',')\n",
    "d=c.split(',')\n",
    "print(len(d))"
   ]
  },
  {
   "cell_type": "markdown",
   "metadata": {},
   "source": [
    "20 write a program to fetch all even number words from every line in the file "
   ]
  },
  {
   "cell_type": "code",
   "execution_count": 23,
   "metadata": {},
   "outputs": [
    {
     "name": "stdout",
     "output_type": "stream",
     "text": [
      "Sarath\n",
      "Venkat\n",
      "\n",
      "Venkat\n",
      "Koti\n",
      "Prabha\n",
      "Soumya\n",
      "Mishra\n",
      "\n",
      "Chinna\n",
      "Amelia\n",
      "Suresh\n",
      "Arjuna\n",
      "\n",
      "Prabha\n",
      "Venkat\n",
      "\n",
      "Narayana\n",
      "Arha\n",
      "Venkat\n",
      "Sravya\n",
      "Ananya\n",
      "\n",
      "Arha\n",
      "Chinna\n",
      "Venkat\n",
      "Yash\n"
     ]
    }
   ],
   "source": [
    "a=open('nthdata.txt')\n",
    "b=a.readlines()\n",
    "for i in b:\n",
    "    c=i.replace('\\n',',')\n",
    "    d=c.split(',')\n",
    "    for j in d:\n",
    "        if len(j)%2==0:\n",
    "            print(j)\n",
    "\n",
    "\n"
   ]
  },
  {
   "cell_type": "markdown",
   "metadata": {},
   "source": [
    "21 write a program to fetch all words which ends with 'bha' in the files"
   ]
  },
  {
   "cell_type": "code",
   "execution_count": 3,
   "metadata": {},
   "outputs": [
    {
     "name": "stdout",
     "output_type": "stream",
     "text": [
      "Prabha\n",
      "Prabha\n",
      "Subha\n",
      "Debha\n",
      "Rabha\n"
     ]
    }
   ],
   "source": [
    "a=open('nthdata.txt')\n",
    "b=a.readlines()\n",
    "for i in b:\n",
    "    c=i.split(',')\n",
    "    for j in c:\n",
    "        if j.endswith ('bha'):\n",
    "         print(j)\n",
    "    \n"
   ]
  },
  {
   "cell_type": "markdown",
   "metadata": {},
   "source": [
    "22 write a program to display all tcs employees"
   ]
  },
  {
   "cell_type": "code",
   "execution_count": 11,
   "metadata": {},
   "outputs": [
    {
     "name": "stdout",
     "output_type": "stream",
     "text": [
      "['Sai', 'Rohit', 'Satya', 'Dhoni', 'Sarath', 'Saroj', 'Venkat', 'Sas\\n']\n"
     ]
    }
   ],
   "source": [
    "a=open('nthdata.txt')\n",
    "b=a.readlines()\n",
    "for i in b:\n",
    "    c=i.split(',')\n",
    "    if 'TCS' in c:\n",
    "      print(c[1:9])\n",
    "\n",
    "\n"
   ]
  },
  {
   "cell_type": "markdown",
   "metadata": {},
   "source": [
    "23 write program to display th company name of chinna employee"
   ]
  },
  {
   "cell_type": "code",
   "execution_count": 13,
   "metadata": {},
   "outputs": [
    {
     "name": "stdout",
     "output_type": "stream",
     "text": [
      "WIPRO\n",
      "ABC\n"
     ]
    }
   ],
   "source": [
    "a=open('nthdata.txt')\n",
    "b=a.readlines()\n",
    "for i in b:\n",
    "    c=i.split(',')\n",
    "    if 'Chinna' in c:\n",
    "        print(c[0])"
   ]
  },
  {
   "cell_type": "markdown",
   "metadata": {},
   "source": [
    "24 write a program to fetch the 2nd from 3rd line in the file "
   ]
  },
  {
   "cell_type": "code",
   "execution_count": 14,
   "metadata": {},
   "outputs": [
    {
     "name": "stdout",
     "output_type": "stream",
     "text": [
      "Satya\n"
     ]
    }
   ],
   "source": [
    "a=open('nthdata.txt')\n",
    "b=a.readlines()[2]\n",
    "c=b.split(',')\n",
    "print(c[1])\n"
   ]
  },
  {
   "cell_type": "markdown",
   "metadata": {},
   "source": [
    "25 write a program to fetch the first character from each word in the 3rd line"
   ]
  },
  {
   "cell_type": "code",
   "execution_count": 15,
   "metadata": {},
   "outputs": [
    {
     "name": "stdout",
     "output_type": "stream",
     "text": [
      "W\n",
      "S\n",
      "K\n",
      "R\n",
      "C\n",
      "P\n",
      "A\n",
      "S\n",
      "A\n"
     ]
    }
   ],
   "source": [
    "a=open('nthdata.txt')\n",
    "b=a.readlines()[2]\n",
    "for i in b.split(','):\n",
    "    print(i[0])"
   ]
  },
  {
   "cell_type": "markdown",
   "metadata": {},
   "source": [
    "26 write a program to fetch first and last character of each word in the 3rd line"
   ]
  },
  {
   "cell_type": "code",
   "execution_count": 17,
   "metadata": {},
   "outputs": [
    {
     "name": "stdout",
     "output_type": "stream",
     "text": [
      "W O\n",
      "S a\n",
      "K i\n",
      "R m\n",
      "C a\n",
      "P p\n",
      "A a\n",
      "S h\n",
      "A \n",
      "\n"
     ]
    }
   ],
   "source": [
    "a=open('nthdata.txt')\n",
    "b=a.readlines()[2]\n",
    "for i in b.split(','):\n",
    "    print(i[0],i[-1])\n",
    "    "
   ]
  },
  {
   "cell_type": "markdown",
   "metadata": {},
   "source": [
    "27 write a program to fetch all character (except 1st and last chars) of each word in the 2nd line"
   ]
  },
  {
   "cell_type": "code",
   "execution_count": 18,
   "metadata": {},
   "outputs": [
    {
     "name": "stdout",
     "output_type": "stream",
     "text": [
      "NFOS\n",
      "oh\n",
      "anto\n",
      "enk\n",
      "o\n",
      "rab\n",
      "oum\n",
      "ishr\n"
     ]
    }
   ],
   "source": [
    "a=open('nthdata.txt')\n",
    "b=a.readlines()[1]\n",
    "for i in b.split(','):\n",
    "    print(i[1:-2])"
   ]
  },
  {
   "cell_type": "markdown",
   "metadata": {},
   "source": [
    "28 count total number of words which start with 's' character"
   ]
  },
  {
   "cell_type": "code",
   "execution_count": 24,
   "metadata": {},
   "outputs": [
    {
     "name": "stdout",
     "output_type": "stream",
     "text": [
      "Sai\n",
      "Satya\n",
      "Sarath\n",
      "Saroj\n",
      "Sas\n",
      "INFOSYS\n",
      "Santosh\n",
      "Soumya\n",
      "Satya\n",
      "Suresh\n",
      "Subha\n",
      "Surya\n",
      "Saroj\n",
      "NTH\n",
      "Sravya\n",
      "Satya\n"
     ]
    }
   ],
   "source": [
    "a=open('nthdata.txt')\n",
    "b=a.read()\n",
    "for i in b.split(','):\n",
    "    if i[0]=='S':\n",
    "        print(i)"
   ]
  },
  {
   "cell_type": "markdown",
   "metadata": {},
   "source": [
    "29 write a program to fetch all the duplicate names in the file"
   ]
  },
  {
   "cell_type": "code",
   "execution_count": 28,
   "metadata": {},
   "outputs": [
    {
     "name": "stdout",
     "output_type": "stream",
     "text": [
      "{'Arha', 'Kohli', 'Venkat', 'Chinna', 'Dhoni', 'Rohit', 'Prabha', 'Satya'}\n"
     ]
    }
   ],
   "source": [
    "a=open('nthdata.txt')\n",
    "b=a.read().replace(\"/n\",\",\").split(\",\")\n",
    "c={i for i in b if b.count(i)>1}\n",
    "print(c)\n",
    "    "
   ]
  },
  {
   "cell_type": "markdown",
   "metadata": {},
   "source": [
    "30 write a program to count all vowels in the file DICT"
   ]
  },
  {
   "cell_type": "code",
   "execution_count": 1,
   "metadata": {},
   "outputs": [
    {
     "name": "stdout",
     "output_type": "stream",
     "text": [
      "{'a': 47, 'e': 10, 'i': 16, 'o': 13, 'u': 5, 'A': 8, 'E': 0, 'I': 2, 'O': 2, 'U': 0}\n"
     ]
    }
   ],
   "source": [
    "a=open('nthdata.txt')\n",
    "b=a.read()\n",
    "c=b.replace(\"/n\",\",\")\n",
    "c=\"aeiouAEIOU\"\n",
    "d={}\n",
    "x=d.fromkeys(c,0)\n",
    "for i in b:\n",
    "    if i in x:\n",
    "        x[i]=x[i]+1\n",
    "print(x)"
   ]
  },
  {
   "cell_type": "code",
   "execution_count": 34,
   "metadata": {},
   "outputs": [],
   "source": [
    "vowel = [\"a\",\"i\",\"i\",\"o\",\"u\", \"A\" , \"E\" , \"I\" , \"O\", \"U\"]\n",
    "d = {}\n",
    "x = d.fromkeys(vowel,0)\n"
   ]
  },
  {
   "cell_type": "code",
   "execution_count": 35,
   "metadata": {},
   "outputs": [
    {
     "data": {
      "text/plain": [
       "{'a': None,\n",
       " 'i': None,\n",
       " 'o': None,\n",
       " 'u': None,\n",
       " 'A': None,\n",
       " 'E': None,\n",
       " 'I': None,\n",
       " 'O': None,\n",
       " 'U': None}"
      ]
     },
     "execution_count": 35,
     "metadata": {},
     "output_type": "execute_result"
    }
   ],
   "source": [
    "x"
   ]
  },
  {
   "cell_type": "markdown",
   "metadata": {},
   "source": [
    "31 write a program to reverse all words in the file "
   ]
  },
  {
   "cell_type": "code",
   "execution_count": 2,
   "metadata": {},
   "outputs": [
    {
     "data": {
      "text/plain": [
       "['SCT',\n",
       " 'iaS',\n",
       " 'tihoR',\n",
       " 'aytaS',\n",
       " 'inohD',\n",
       " 'htaraS',\n",
       " 'joraS',\n",
       " 'takneV',\n",
       " 'SYSOFNI\\nsaS',\n",
       " 'ilhoK',\n",
       " 'hsotnaS',\n",
       " 'takneV',\n",
       " 'itoK',\n",
       " 'ahbarP',\n",
       " 'aymuoS',\n",
       " 'ORPIW\\narhsiM',\n",
       " 'aytaS',\n",
       " 'ilhoK',\n",
       " 'maR',\n",
       " 'annihC',\n",
       " 'poP',\n",
       " 'ailemA',\n",
       " 'hseruS',\n",
       " 'STC\\nanujrA',\n",
       " 'ahbarP',\n",
       " 'ahbuS',\n",
       " 'ahbeD',\n",
       " 'ahbaR',\n",
       " 'takneV',\n",
       " 'inohD',\n",
       " 'ayruS',\n",
       " 'HTN\\njoraS',\n",
       " 'anayaraN',\n",
       " 'lihkA',\n",
       " 'ahrA',\n",
       " 'takneV',\n",
       " 'ayvarS',\n",
       " 'aynanA',\n",
       " 'htnaveR',\n",
       " 'CBA\\nahA',\n",
       " 'ahrA',\n",
       " 'annihC',\n",
       " 'aytaS',\n",
       " 'inohD',\n",
       " 'takneV',\n",
       " 'tihoR',\n",
       " 'hsaY',\n",
       " 'hselihkiN']"
      ]
     },
     "execution_count": 2,
     "metadata": {},
     "output_type": "execute_result"
    }
   ],
   "source": [
    "a=open('nthdata.txt')\n",
    "b=a.read()\n",
    "c=b.replace('/n',',')\n",
    "d=c.split(',')\n",
    "[i [::-1] for i in d]"
   ]
  },
  {
   "cell_type": "markdown",
   "metadata": {},
   "source": [
    "32 write a program to fetch all the word which contain two or more then 'a' character"
   ]
  },
  {
   "cell_type": "code",
   "execution_count": 3,
   "metadata": {},
   "outputs": [
    {
     "data": {
      "text/plain": [
       "['Satya',\n",
       " 'Sarath',\n",
       " 'Prabha',\n",
       " 'Satya',\n",
       " 'Prabha',\n",
       " 'Rabha',\n",
       " 'Narayana',\n",
       " 'Sravya',\n",
       " 'Ananya',\n",
       " 'Satya']"
      ]
     },
     "execution_count": 3,
     "metadata": {},
     "output_type": "execute_result"
    }
   ],
   "source": [
    "a=open('nthdata.txt')\n",
    "b=a.read()\n",
    "c=b.replace('/n',',')\n",
    "d=c.split(',')\n",
    "[i for i in d if i.count('a')>=2]"
   ]
  },
  {
   "cell_type": "markdown",
   "metadata": {},
   "source": [
    "33 write a program to fetch all words which starts and end with a "
   ]
  },
  {
   "cell_type": "code",
   "execution_count": 11,
   "metadata": {},
   "outputs": [
    {
     "name": "stdout",
     "output_type": "stream",
     "text": [
      "Amelia\n",
      "Arha\n",
      "Ananya\n",
      "Arha\n"
     ]
    }
   ],
   "source": [
    "a=open('nthdata.txt')\n",
    "b=a.read()\n",
    "c=b.replace('/n',',')\n",
    "d=c.split(',')\n",
    "for i in d:\n",
    "    if i.startswith('A') and i.endswith('a'):\n",
    "     print(i)"
   ]
  },
  {
   "cell_type": "markdown",
   "metadata": {},
   "source": [
    "a=open('nthdata.txt')\n",
    "b=a.readlines()[2]\n",
    "for i in b.split(','):\n",
    "    print(i[0],i[-1])\n",
    "    ()"
   ]
  },
  {
   "cell_type": "markdown",
   "metadata": {},
   "source": [
    "34 fetch all words which has more number of 'a' character"
   ]
  },
  {
   "cell_type": "code",
   "execution_count": 13,
   "metadata": {},
   "outputs": [
    {
     "data": {
      "text/plain": [
       "['Narayana']"
      ]
     },
     "execution_count": 13,
     "metadata": {},
     "output_type": "execute_result"
    }
   ],
   "source": [
    "a=open('nthdata.txt')\n",
    "b=a.read()\n",
    "c=b.replace(\"/n\",\",\")\n",
    "d=c.split(\",\")\n",
    "[i for i in d if i.count('a')>2]"
   ]
  },
  {
   "cell_type": "markdown",
   "metadata": {},
   "source": [
    "35 fetch all company names which starts with vowels"
   ]
  },
  {
   "cell_type": "code",
   "execution_count": 19,
   "metadata": {},
   "outputs": [
    {
     "name": "stdout",
     "output_type": "stream",
     "text": [
      "INFOSYS\n",
      "ABC\n"
     ]
    }
   ],
   "source": [
    "a=open('nthdata.txt')\n",
    "b=a.readlines()\n",
    "for i in b:\n",
    "    if i[0] in (('A','E','I','O','U')):\n",
    "        c=i.split(',')\n",
    "        print(c[0])\n"
   ]
  },
  {
   "cell_type": "markdown",
   "metadata": {},
   "source": [
    "36 display company name which contains saroj employee"
   ]
  },
  {
   "cell_type": "code",
   "execution_count": 23,
   "metadata": {},
   "outputs": [
    {
     "name": "stdout",
     "output_type": "stream",
     "text": [
      "TCS\n"
     ]
    }
   ],
   "source": [
    "a=open('nthdata.txt')\n",
    "b=a.readlines()\n",
    "for i in b:\n",
    "    c=i.split(',')\n",
    "    if 'Saroj' in c:\n",
    "        print(c[0])\n",
    "    \n"
   ]
  },
  {
   "cell_type": "markdown",
   "metadata": {},
   "source": [
    "a=open('nthdata.txt')\n",
    "b=a.readlines()\n",
    "for i in b:\n",
    "    c=i.split(',')\n",
    "    if 'Chinna' in c:\n",
    "        print(c[0])"
   ]
  },
  {
   "cell_type": "markdown",
   "metadata": {},
   "source": [
    "37 write a program to count all words which starts and ends with consonants"
   ]
  },
  {
   "cell_type": "code",
   "execution_count": 9,
   "metadata": {},
   "outputs": [
    {
     "name": "stdout",
     "output_type": "stream",
     "text": [
      "TCS\n",
      "Rohit\n",
      "Sarath\n",
      "Saroj\n",
      "Venkat\n",
      "Sas\n",
      "INFOSYS\n",
      "Santosh\n",
      "Venkat\n",
      "Ram\n",
      "Pop\n",
      "Suresh\n",
      "Venkat\n",
      "Saroj\n",
      "NTH\n",
      "Venkat\n",
      "Revanth\n",
      "Venkat\n",
      "Rohit\n",
      "Yash\n",
      "Nikhilesh\n"
     ]
    }
   ],
   "source": [
    "a=open('nthdata.txt')\n",
    "b=a.read()\n",
    "c=b.replace('/n','')\n",
    "d=c.split(',')\n",
    "for i in d:\n",
    "     if i[0] not in \"aeiouAEIOU\" and i[-1] not in \"aeioAEIOU\":\n",
    "        print(i)"
   ]
  },
  {
   "cell_type": "markdown",
   "metadata": {},
   "source": [
    "38 write a program to fetch all company names which does not contain Venket employee"
   ]
  },
  {
   "cell_type": "code",
   "execution_count": 22,
   "metadata": {},
   "outputs": [
    {
     "name": "stdout",
     "output_type": "stream",
     "text": [
      "WIPRO\n"
     ]
    }
   ],
   "source": [
    "a=open('nthdata.txt')\n",
    "b=a.readlines()\n",
    "\n",
    "for i in b:\n",
    "        c=i.split(\",\")\n",
    "        if 'Venkat' not in c:\n",
    "         print(c[0])\n"
   ]
  },
  {
   "cell_type": "markdown",
   "metadata": {},
   "source": [
    "a=open('nthdata.txt')\n",
    "b=a.read()\n",
    "c=b.replace(\"\\n\",',')\n",
    "e=c.split(',')\n",
    "for i in e:\n",
    " if 'a' not in i and 'e' not in i and 'o' not in i and 'u' not in i:\n",
    "  print(i)\n"
   ]
  },
  {
   "cell_type": "markdown",
   "metadata": {},
   "source": [
    "39 display company name where narayan is working"
   ]
  },
  {
   "cell_type": "code",
   "execution_count": 23,
   "metadata": {},
   "outputs": [
    {
     "name": "stdout",
     "output_type": "stream",
     "text": [
      "NTH\n"
     ]
    }
   ],
   "source": [
    "a=open('nthdata.txt')\n",
    "b=a.readlines()\n",
    "for i in b:\n",
    "    c=i.split(\",\")\n",
    "    if 'Narayana' in c:\n",
    "        print(c[0])"
   ]
  },
  {
   "cell_type": "markdown",
   "metadata": {},
   "source": [
    "40 write a program to display the first word and last word from each line in dic format"
   ]
  },
  {
   "cell_type": "code",
   "execution_count": 1,
   "metadata": {},
   "outputs": [
    {
     "name": "stdout",
     "output_type": "stream",
     "text": [
      "{'TCS': 'Sai'}\n",
      "{'INFOSYS': 'Kohli'}\n",
      "{'WIPRO': 'Satya'}\n",
      "{'CTS': 'Prabha'}\n",
      "{'NTH': 'Narayana'}\n",
      "{'ABC': 'Arha'}\n"
     ]
    }
   ],
   "source": [
    "a=open('nthdata.txt')\n",
    "b=a.readlines()\n",
    "d={}\n",
    "x=d.fromkeys(b,0)\n",
    "for i in b:\n",
    "    c=i.split(',')\n",
    "    \n",
    "    print({c[0]:c[1]})\n",
    "\n"
   ]
  },
  {
   "cell_type": "markdown",
   "metadata": {},
   "source": [
    "a=open('nthdata.txt')\n",
    "b=a.read()\n",
    "c=b.replace(\"/n\",\",\")\n",
    "c=\"aeiouAEIOU\"\n",
    "d={}\n",
    "x=d.fromkeys(c,0)\n",
    "for i in b:\n",
    "    if i in x:\n",
    "        x[i]=x[i]+1\n",
    "print(x)"
   ]
  },
  {
   "cell_type": "markdown",
   "metadata": {},
   "source": [
    "41 write a program in which all names starts with 'a' in nth company"
   ]
  },
  {
   "cell_type": "code",
   "execution_count": null,
   "metadata": {},
   "outputs": [],
   "source": [
    "a=open('nthdata.txt')\n",
    "b=a.readlines()\n",
    "for i in b:\n",
    "    c=i.split(',')\n",
    "    if c"
   ]
  },
  {
   "cell_type": "markdown",
   "metadata": {},
   "source": []
  }
 ],
 "metadata": {
  "kernelspec": {
   "display_name": "Python 3",
   "language": "python",
   "name": "python3"
  },
  "language_info": {
   "codemirror_mode": {
    "name": "ipython",
    "version": 3
   },
   "file_extension": ".py",
   "mimetype": "text/x-python",
   "name": "python",
   "nbconvert_exporter": "python",
   "pygments_lexer": "ipython3",
   "version": "3.9.13"
  }
 },
 "nbformat": 4,
 "nbformat_minor": 2
}
