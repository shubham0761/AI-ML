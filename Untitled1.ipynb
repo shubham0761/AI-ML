{
 "cells": [
  {
   "cell_type": "code",
   "execution_count": null,
   "id": "51636aa2-c972-453e-9c96-fc6adabd65e6",
   "metadata": {},
   "outputs": [],
   "source": [
    "employess={\n",
    "\n",
    "'emp1':{'name':'Sai','salary':20000,'company':['TCS','Capgemini','Infosys'],'hTown':'Hyd'},\n",
    "'emp2':{'name':'Nani','salary':30000,'company':['Wipro','NTH'],'hTwon':'Bangalore'},\n",
    "'emp3':{'name':'Satya','salary':40000,'company':['NTH','Infosys','CTS'],'hTown':'Chennai'},\n",
    "'emp4':{'name':'Rohit','salary':25000,'company':['infosys','TCS','Defteam'],'hTown':'Pune'},\n",
    "'emp5':{'name':'Mohan','salary':22000,'company':['NTH','HCL','DeepCompute'],'hTown':'Hyd'},\n",
    "'emp6':{'name':'Sanjay','salary':45000,'company':\n",
    "['Wipro','Infosys','Defteam'],'hTown':'Mumbai'}\n",
    "}"
   ]
  }
 ],
 "metadata": {
  "kernelspec": {
   "display_name": "Python 3 (ipykernel)",
   "language": "python",
   "name": "python3"
  },
  "language_info": {
   "codemirror_mode": {
    "name": "ipython",
    "version": 3
   },
   "file_extension": ".py",
   "mimetype": "text/x-python",
   "name": "python",
   "nbconvert_exporter": "python",
   "pygments_lexer": "ipython3",
   "version": "3.9.13"
  }
 },
 "nbformat": 4,
 "nbformat_minor": 5
}
